{
 "cells": [
  {
   "cell_type": "code",
   "execution_count": 1,
   "metadata": {},
   "outputs": [
    {
     "name": "stdout",
     "output_type": "stream",
     "text": [
      "Requirement already satisfied: datasets in /home/zaid/.local/lib/python3.9/site-packages (2.14.4)\n",
      "Requirement already satisfied: pandas in /home/zaid/.local/lib/python3.9/site-packages (from datasets) (2.0.3)\n",
      "Requirement already satisfied: requests>=2.19.0 in /home/zaid/anaconda3/envs/evals/lib/python3.9/site-packages (from datasets) (2.30.0)\n",
      "Requirement already satisfied: fsspec[http]>=2021.11.1 in /home/zaid/.local/lib/python3.9/site-packages (from datasets) (2023.6.0)\n",
      "Requirement already satisfied: huggingface-hub<1.0.0,>=0.14.0 in /home/zaid/.local/lib/python3.9/site-packages (from datasets) (0.16.4)\n",
      "Requirement already satisfied: packaging in /home/zaid/.local/lib/python3.9/site-packages (from datasets) (21.3)\n",
      "Requirement already satisfied: numpy>=1.17 in /home/zaid/.local/lib/python3.9/site-packages (from datasets) (1.25.2)\n",
      "Requirement already satisfied: xxhash in /home/zaid/.local/lib/python3.9/site-packages (from datasets) (3.3.0)\n",
      "Requirement already satisfied: pyyaml>=5.1 in /home/zaid/anaconda3/envs/evals/lib/python3.9/site-packages (from datasets) (6.0)\n",
      "Requirement already satisfied: tqdm>=4.62.1 in /home/zaid/.local/lib/python3.9/site-packages (from datasets) (4.65.0)\n",
      "Requirement already satisfied: multiprocess in /home/zaid/.local/lib/python3.9/site-packages (from datasets) (0.70.15)\n",
      "Requirement already satisfied: dill<0.3.8,>=0.3.0 in /home/zaid/.local/lib/python3.9/site-packages (from datasets) (0.3.7)\n",
      "Requirement already satisfied: pyarrow>=8.0.0 in /home/zaid/.local/lib/python3.9/site-packages (from datasets) (12.0.1)\n",
      "Requirement already satisfied: aiohttp in /home/zaid/.local/lib/python3.9/site-packages (from datasets) (3.8.5)\n",
      "Requirement already satisfied: multidict<7.0,>=4.5 in /home/zaid/.local/lib/python3.9/site-packages (from aiohttp->datasets) (6.0.4)\n",
      "Requirement already satisfied: yarl<2.0,>=1.0 in /home/zaid/.local/lib/python3.9/site-packages (from aiohttp->datasets) (1.9.2)\n",
      "Requirement already satisfied: attrs>=17.3.0 in /home/zaid/anaconda3/envs/evals/lib/python3.9/site-packages (from aiohttp->datasets) (23.1.0)\n",
      "Requirement already satisfied: frozenlist>=1.1.1 in /home/zaid/.local/lib/python3.9/site-packages (from aiohttp->datasets) (1.4.0)\n",
      "Requirement already satisfied: async-timeout<5.0,>=4.0.0a3 in /home/zaid/.local/lib/python3.9/site-packages (from aiohttp->datasets) (4.0.2)\n",
      "Requirement already satisfied: charset-normalizer<4.0,>=2.0 in /home/zaid/.local/lib/python3.9/site-packages (from aiohttp->datasets) (3.2.0)\n",
      "Requirement already satisfied: aiosignal>=1.1.2 in /home/zaid/.local/lib/python3.9/site-packages (from aiohttp->datasets) (1.3.1)\n",
      "Requirement already satisfied: filelock in /home/zaid/.local/lib/python3.9/site-packages (from huggingface-hub<1.0.0,>=0.14.0->datasets) (3.12.2)\n",
      "Requirement already satisfied: typing-extensions>=3.7.4.3 in /home/zaid/.local/lib/python3.9/site-packages (from huggingface-hub<1.0.0,>=0.14.0->datasets) (4.4.0)\n",
      "Requirement already satisfied: pyparsing!=3.0.5,>=2.0.2 in /home/zaid/.local/lib/python3.9/site-packages (from packaging->datasets) (3.0.9)\n",
      "Requirement already satisfied: certifi>=2017.4.17 in /home/zaid/anaconda3/envs/evals/lib/python3.9/site-packages (from requests>=2.19.0->datasets) (2023.5.7)\n",
      "Requirement already satisfied: urllib3<3,>=1.21.1 in /home/zaid/anaconda3/envs/evals/lib/python3.9/site-packages (from requests>=2.19.0->datasets) (1.26.15)\n",
      "Requirement already satisfied: idna<4,>=2.5 in /home/zaid/anaconda3/envs/evals/lib/python3.9/site-packages (from requests>=2.19.0->datasets) (3.4)\n",
      "Requirement already satisfied: tzdata>=2022.1 in /home/zaid/.local/lib/python3.9/site-packages (from pandas->datasets) (2023.3)\n",
      "Requirement already satisfied: pytz>=2020.1 in /home/zaid/.local/lib/python3.9/site-packages (from pandas->datasets) (2023.3)\n",
      "Requirement already satisfied: python-dateutil>=2.8.2 in /home/zaid/.local/lib/python3.9/site-packages (from pandas->datasets) (2.8.2)\n",
      "Requirement already satisfied: six>=1.5 in /home/zaid/anaconda3/envs/evals/lib/python3.9/site-packages (from python-dateutil>=2.8.2->pandas->datasets) (1.16.0)\n"
     ]
    }
   ],
   "source": [
    "!pip install datasets"
   ]
  },
  {
   "cell_type": "code",
   "execution_count": 61,
   "metadata": {},
   "outputs": [],
   "source": [
    "from datasets import load_dataset\n",
    "cidar = load_dataset(\"arbml/cidar\")\n",
    "alpagasus = load_dataset(\"arbml/alpagasus_cleaned_ar\")"
   ]
  },
  {
   "cell_type": "code",
   "execution_count": 3,
   "metadata": {},
   "outputs": [],
   "source": [
    "!mkdir keywords"
   ]
  },
  {
   "cell_type": "code",
   "execution_count": 69,
   "metadata": {},
   "outputs": [],
   "source": [
    "def save_dataset(data, keyword, pre = 'cidar'):\n",
    "    open(f'keywords/{pre}_{keyword}.txt', 'w').write('\\n*********\\n'.join([x['instruction']+x['output'] for x in data]))\n",
    "\n",
    "def extract_by_keyword(keyword):\n",
    "    global cidar, alpagasus\n",
    "    c = cidar.filter(lambda x: keyword in x['instruction']+x['output'])['train']\n",
    "    a = alpagasus.filter(lambda x: keyword in x['instruction']+x['output'])['train']\n",
    "    print(len(c))\n",
    "    print(len(a))\n",
    "    save_dataset(c, keyword, pre = 'cidar')\n",
    "    save_dataset(a, keyword, pre = 'alpagasus')"
   ]
  },
  {
   "cell_type": "code",
   "execution_count": 73,
   "metadata": {},
   "outputs": [
    {
     "data": {
      "application/vnd.jupyter.widget-view+json": {
       "model_id": "775ce2ff917f4524a572c80585c9953d",
       "version_major": 2,
       "version_minor": 0
      },
      "text/plain": [
       "Filter:   0%|          | 0/10000 [00:00<?, ? examples/s]"
      ]
     },
     "metadata": {},
     "output_type": "display_data"
    },
    {
     "data": {
      "application/vnd.jupyter.widget-view+json": {
       "model_id": "6fc5d63f074f49c49c7f695dc5f9670d",
       "version_major": 2,
       "version_minor": 0
      },
      "text/plain": [
       "Filter:   0%|          | 0/9229 [00:00<?, ? examples/s]"
      ]
     },
     "metadata": {},
     "output_type": "display_data"
    },
    {
     "name": "stdout",
     "output_type": "stream",
     "text": [
      "118\n",
      "125\n"
     ]
    }
   ],
   "source": [
    "extract_by_keyword('وصفة')"
   ]
  },
  {
   "cell_type": "code",
   "execution_count": 74,
   "metadata": {},
   "outputs": [
    {
     "name": "stdout",
     "output_type": "stream",
     "text": [
      "تشكيل\n",
      "26\n",
      "0\n",
      "إعراب\n",
      "246\n",
      "0\n",
      "ترجم\n",
      "105\n",
      "96\n",
      "وصفة\n",
      "117\n",
      "124\n"
     ]
    }
   ],
   "source": [
    "keywords = ['تشكيل', 'إعراب', 'ترجم', 'وصفة']\n",
    "for keyword in keywords:\n",
    "    print(keyword)\n",
    "    data = open(f'keywords/cidar_{keyword}.txt').read().split('\\n*********\\n')\n",
    "    print(len(data) - 1)\n",
    "    data = open(f'keywords/alpagasus_{keyword}.txt').read().split('\\n*********\\n')\n",
    "    print(len(data) - 1)"
   ]
  },
  {
   "cell_type": "code",
   "execution_count": 80,
   "metadata": {},
   "outputs": [],
   "source": [
    "cidar_by_index = {ex['index']:ex for ex in cidar['train']}\n",
    "alpag_by_index = {ex['index']:ex for ex in alpagasus['train']}"
   ]
  },
  {
   "cell_type": "code",
   "execution_count": 92,
   "metadata": {},
   "outputs": [
    {
     "name": "stdout",
     "output_type": "stream",
     "text": [
      "3096\n",
      "4775\n",
      "5782\n",
      "9084\n"
     ]
    }
   ],
   "source": [
    "instruction_cnt = 0\n",
    "intersection_cnt = 0 \n",
    "output_cnt = 0\n",
    "inst_output_cnt = 0 \n",
    "for index in cidar_by_index:\n",
    "  if index in alpag_by_index:\n",
    "    cidar_sample = cidar_by_index[index]\n",
    "    alpag_sample = alpag_by_index[index]\n",
    "    intersection_cnt += 1\n",
    "    if cidar_sample['instruction'].strip() != alpag_sample['instruction'].strip():\n",
    "        instruction_cnt +=1\n",
    "    if cidar_sample['output'].strip() != alpag_sample['output'].strip():\n",
    "        output_cnt +=1    \n",
    "    if cidar_sample['instruction'].strip() + cidar_sample['output'].strip() != alpag_sample['instruction'].strip() + alpag_sample['output'].strip():\n",
    "        inst_output_cnt +=1\n",
    "\n",
    "print(instruction_cnt)\n",
    "print(output_cnt)\n",
    "print(inst_output_cnt)\n",
    "print(intersection_cnt)\n"
   ]
  },
  {
   "cell_type": "code",
   "execution_count": 86,
   "metadata": {},
   "outputs": [
    {
     "name": "stdout",
     "output_type": "stream",
     "text": [
      "{'instruction': ' أعطني ثلاث نصائح للحفاظ على الصحة.', 'output': ' 1. تناول نظام غذائي متوازن وتأكد من تضمين الكثير من الفواكه والخضروات.\\r\\n2. ممارسة التمارين الرياضية بانتظام للحفاظ على نشاط وقوة الجسم.\\r\\n3. الحصول على قسط كافٍ من النوم والحفاظ على جدول نوم منتظم.', 'index': 0}\n",
      "{'instruction_en': ' Give three tips for staying healthy. \\n', 'output_en': ' 1.Eat a balanced diet and make sure to include plenty of fruits and vegetables. \\n2. Exercise regularly to keep your body active and strong. \\n3. Get enough sleep and maintain a consistent sleep schedule.', 'instruction': ' أعطني ثلاث نصائح للحفاظ على الصحة.\\n', 'output': ' 1. تناول نظام غذائي متوازن وتأكد من تضمين الكثير من الفواكه والخضروات.\\n2. ممارسة التمارين الرياضية بانتظام للحفاظ على نشاط وقوة الجسم.\\n3. الحصول على قسط كافٍ من النوم والحفاظ على جدول نوم منتظم.', 'index': 0}\n"
     ]
    }
   ],
   "source": [
    "print(cidar_by_index[0])\n",
    "print(alpag_by_index[0])"
   ]
  },
  {
   "cell_type": "code",
   "execution_count": null,
   "metadata": {},
   "outputs": [],
   "source": []
  }
 ],
 "metadata": {
  "kernelspec": {
   "display_name": "evals",
   "language": "python",
   "name": "python3"
  },
  "language_info": {
   "codemirror_mode": {
    "name": "ipython",
    "version": 3
   },
   "file_extension": ".py",
   "mimetype": "text/x-python",
   "name": "python",
   "nbconvert_exporter": "python",
   "pygments_lexer": "ipython3",
   "version": "3.9.0"
  }
 },
 "nbformat": 4,
 "nbformat_minor": 2
}
